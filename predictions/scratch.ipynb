{
 "cells": [
  {
   "cell_type": "code",
   "execution_count": 7,
   "metadata": {},
   "outputs": [
    {
     "name": "stdout",
     "output_type": "stream",
     "text": [
      "No class weights: [0.54852228 0.06718671 0.38429101]\n",
      "With class weights: [0.69207725 0.08892577 0.21899698]\n"
     ]
    }
   ],
   "source": [
    "from sklearn.tree import DecisionTreeClassifier\n",
    "from sklearn.datasets import make_classification\n",
    "\n",
    "# ✅ Fix: set n_informative + n_redundant <= n_features\n",
    "X, y = make_classification(\n",
    "    n_samples=1000,\n",
    "    n_features=3,\n",
    "    n_informative=2,\n",
    "    n_redundant=0,\n",
    "    weights=[0.9, 0.1],\n",
    "    random_state=42\n",
    ")\n",
    "\n",
    "# Train without class weights\n",
    "clf1 = DecisionTreeClassifier(random_state=42)\n",
    "clf1.fit(X, y)\n",
    "\n",
    "# Train with class weights\n",
    "clf2 = DecisionTreeClassifier(class_weight='balanced', random_state=42)\n",
    "clf2.fit(X, y)\n",
    "\n",
    "# Compare feature importances\n",
    "print(\"No class weights:\", clf1.feature_importances_)\n",
    "print(\"With class weights:\", clf2.feature_importances_)\n"
   ]
  }
 ],
 "metadata": {
  "kernelspec": {
   "display_name": "Python 3",
   "language": "python",
   "name": "python3"
  },
  "language_info": {
   "codemirror_mode": {
    "name": "ipython",
    "version": 3
   },
   "file_extension": ".py",
   "mimetype": "text/x-python",
   "name": "python",
   "nbconvert_exporter": "python",
   "pygments_lexer": "ipython3",
   "version": "3.13.1"
  }
 },
 "nbformat": 4,
 "nbformat_minor": 2
}
